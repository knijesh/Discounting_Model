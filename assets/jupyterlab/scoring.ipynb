{
 "cells": [
  {
   "cell_type": "markdown",
   "metadata": {},
   "source": [
    "### Access Token Generation.\n"
   ]
  },
  {
   "cell_type": "markdown",
   "metadata": {},
   "source": [
    "#### Use your user access token to connect to the server. This will mask your user credentials.There are different ways to generate the token. The token expires after 12 hours. The following examples shows how to retrieve a bearer token from the user management service.\n",
    "\n"
   ]
  },
  {
   "cell_type": "markdown",
   "metadata": {},
   "source": [
    "### User Access Token"
   ]
  },
  {
   "cell_type": "code",
   "execution_count": 2,
   "metadata": {},
   "outputs": [],
   "source": [
    "import os\n",
    "mltoken =  os.environ['USER_ACCESS_TOKEN']"
   ]
  },
  {
   "cell_type": "markdown",
   "metadata": {},
   "source": [
    "### Define the Credentials"
   ]
  },
  {
   "cell_type": "code",
   "execution_count": 1,
   "metadata": {},
   "outputs": [
    {
     "name": "stdin",
     "output_type": "stream",
     "text": [
      "user:  nijesh\n",
      "password:  ········\n"
     ]
    }
   ],
   "source": [
    "import getpass \n",
    "from getpass import getpass\n",
    "\n",
    "user = input('user: ')\n",
    "pwd = getpass(f'password: ')"
   ]
  },
  {
   "cell_type": "markdown",
   "metadata": {},
   "source": [
    "### Curl Command"
   ]
  },
  {
   "cell_type": "code",
   "execution_count": 4,
   "metadata": {},
   "outputs": [
    {
     "name": "stdout",
     "output_type": "stream",
     "text": [
      "{\"username\":\"nijesh\",\"role\":\"Admin\",\"permissions\":[\"administrator\",\"can_provision\",\"manage_catalog\",\"manage_information_assets\",\"manage_quality\",\"manage_discovery\",\"manage_metadata_import\",\"manage_categories\",\"author_governance_artifacts\",\"manage_governance_workflow\",\"access_catalog\",\"access_information_assets\",\"view_quality\",\"access_quality\"],\"sub\":\"nijesh\",\"iss\":\"KNOXSSO\",\"aud\":\"DSX\",\"uid\":\"1000331001\",\"authenticator\":\"default\",\"accessToken\":\"eyJhbGciOiJSUzI1NiIsInR5cCI6IkpXVCJ9.eyJ1c2VybmFtZSI6Im5pamVzaCIsInJvbGUiOiJBZG1pbiIsInBlcm1pc3Npb25zIjpbImFkbWluaXN0cmF0b3IiLCJjYW5fcHJvdmlzaW9uIiwibWFuYWdlX2NhdGFsb2ciLCJtYW5hZ2VfaW5mb3JtYXRpb25fYXNzZXRzIiwibWFuYWdlX3F1YWxpdHkiLCJtYW5hZ2VfZGlzY292ZXJ5IiwibWFuYWdlX21ldGFkYXRhX2ltcG9ydCIsIm1hbmFnZV9jYXRlZ29yaWVzIiwiYXV0aG9yX2dvdmVybmFuY2VfYXJ0aWZhY3RzIiwibWFuYWdlX2dvdmVybmFuY2Vfd29ya2Zsb3ciLCJhY2Nlc3NfY2F0YWxvZyIsImFjY2Vzc19pbmZvcm1hdGlvbl9hc3NldHMiLCJ2aWV3X3F1YWxpdHkiLCJhY2Nlc3NfcXVhbGl0eSJdLCJzdWIiOiJuaWplc2giLCJpc3MiOiJLTk9YU1NPIiwiYXVkIjoiRFNYIiwidWlkIjoiMTAwMDMzMTAwMSIsImF1dGhlbnRpY2F0b3IiOiJkZWZhdWx0IiwiaWF0IjoxNTkwMzkyMjA0LCJleHAiOjE1OTA0MzU0MDR9.FfOPRSOwGzUkvBKuxoQhwyoWqO9_pdqBUcrvyPQLvkZY1CCA0_6PRamY45QT1F5wJbBtVSAknFcZEwH1v9xQyP27d7MKT0-7txuC9XqvpINFpU6axKM__hJ6_FovFX2OG_j6Nm9W9blbQjeOUDd38nMCockcCO9a0UAarvA-Dou8SnMs_el9PssfkYpE8dEw67Cbfw71d0RQrOG2M1YPe3M4utDoPOuj12-aPk0NLIrpDcCd5HZrLmUky25aHQxm1ZvZOMiHyLHgz4N0k0AZFX1-07_VPQ2huvTNiACGi5Va5rnl6CjvDlayDsTs4FTcpkbQqUFG4Vz4OHEIftlpfA\",\"_messageCode_\":\"success\",\"message\":\"success\"}"
     ]
    }
   ],
   "source": [
    "!curl -k -X GET https://dhl-cpd-dhl.apps.anup-dal12-demo-cpdga.demo.ibmcloud.com/v1/preauth/validateAuth -u \"$user\":\"$pwd\"\n"
   ]
  },
  {
   "cell_type": "markdown",
   "metadata": {},
   "source": [
    "### The Elegant Python way"
   ]
  },
  {
   "cell_type": "code",
   "execution_count": 2,
   "metadata": {},
   "outputs": [],
   "source": [
    "CONNECTION_CREDENTIALS = {\n",
    "                      \"username\": user ,\n",
    "                      \"password\": pwd,\n",
    "                      # address should be replaced with ip, port pair to be used in scripts outside ICP\n",
    "                      \"url\": \"https://dhl-cpd-dhl.apps.anup-dal12-demo-cpdga.demo.ibmcloud.com\"\n",
    "                   }"
   ]
  },
  {
   "cell_type": "code",
   "execution_count": 3,
   "metadata": {},
   "outputs": [],
   "source": [
    "import json\n",
    "import requests\n",
    "import base64\n",
    "from requests.auth import HTTPBasicAuth\n",
    "import time\n",
    "import warnings\n",
    "warnings.filterwarnings(\"ignore\")\n",
    "\n",
    "def generate_access_token():\n",
    "    headers={}\n",
    "    headers[\"Accept\"] = \"application/json\"\n",
    "    auth = HTTPBasicAuth(CONNECTION_CREDENTIALS[\"username\"], CONNECTION_CREDENTIALS[\"password\"])\n",
    "    ICP_TOKEN_URL= CONNECTION_CREDENTIALS[\"url\"] + \"/v1/preauth/validateAuth\"\n",
    "    response = requests.get(ICP_TOKEN_URL, headers=headers, auth=auth, verify=False)\n",
    "    json_data = response.json()\n",
    "    icp_access_token = json_data['accessToken']\n",
    "    return icp_access_token\n"
   ]
  },
  {
   "cell_type": "code",
   "execution_count": 8,
   "metadata": {},
   "outputs": [],
   "source": [
    "mltoken = generate_access_token()\n",
    "mltoken"
   ]
  },
  {
   "cell_type": "markdown",
   "metadata": {},
   "source": [
    "### Demonstrate the Scoring of Endpoint "
   ]
  },
  {
   "cell_type": "markdown",
   "metadata": {},
   "source": [
    "### Imports"
   ]
  },
  {
   "cell_type": "code",
   "execution_count": 9,
   "metadata": {},
   "outputs": [],
   "source": [
    "import os\n",
    "import pandas as pd\n",
    "from cpd_utils import *"
   ]
  },
  {
   "cell_type": "markdown",
   "metadata": {},
   "source": [
    "### Prepare Scoring Payload"
   ]
  },
  {
   "cell_type": "code",
   "execution_count": 10,
   "metadata": {},
   "outputs": [],
   "source": [
    "payload= prepare_scoring_payload(path=\"/project_data/data_asset/trn_dataset_transformed.tsv\",no_of_records=2)\n",
    "    \n",
    "#payload = prepare_scoring_payload(\"/project_data/data_asset/eval_mdd.tsv\",no_of_records=1)\n",
    "values = payload['input_data'][0]['values']\n",
    "fields = payload['input_data'][0]['fields']\n"
   ]
  },
  {
   "cell_type": "markdown",
   "metadata": {},
   "source": [
    "### Use the Requests Library and Authenticated mltoken to fetch the score using the model endpoint"
   ]
  },
  {
   "cell_type": "code",
   "execution_count": 12,
   "metadata": {},
   "outputs": [
    {
     "name": "stdout",
     "output_type": "stream",
     "text": [
      "Scoring response\n",
      "{'predictions': [{'fields': ['offer_id', 'organization_id', 'discount', 'recommended_revenue', 'recommended_pid', 'recommended_pid_name', 'physical_channel', 'published_revenue', 'new_potential_revenue', 'shipments', 'wps', 'product_cluster', 'industry_code', 'contactrole', 'reason_for_lead', 'lead_source_type', 'primary_competitor', 'predictions'], 'values': [['CL_O_114028920439', 'DHL CL', 54.99967567667746, 69.18017647058825, nan, 'TDI_45%', 'E-Commerce', 129.5004, 66.54, 2, 30.0, 'TDImport', 'FASHFASH', 'Influencer', 'Campaign', 'Liveball', 'FedEx', 51.72905235791909], ['CL_O_114028025699', 'DHL CL', 50.0, 58.436470588235295, nan, 'TDE_42%', 'Freight Forwarders', 103.1832, 61.2, 2, 30.0, 'TDExport', 'CSMRCSDU', 'Influencer', 'Cash Customer', 'CSV', 'UPS', 47.81647307705444]]}]}\n"
     ]
    }
   ],
   "source": [
    "import urllib3, requests, json\n",
    "import warnings\n",
    "warnings.filterwarnings(\"ignore\")\n",
    "\n",
    "# NOTE: you must construct mltoken based on provided documentation\t\n",
    "header = {'Content-Type': 'application/json', 'Authorization': 'Bearer ' + mltoken}\n",
    "\n",
    "# NOTE: manually define and pass the array(s) of values to be scored in the next line\n",
    "payload_scoring = {\"input_data\": [{\"fields\":fields, \"values\":values}]}\n",
    "\n",
    "#Model V1\n",
    "\n",
    "response_scoring = requests.post('https://dhl-cpd-dhl.apps.anup-dal12-demo-cpdga.demo.ibmcloud.com/v4/deployments/6058c31f-f7f8-4047-b3d5-457ddca47d21/predictions', json=payload_scoring, headers=header,verify=False)\n",
    "print(\"Scoring response\")\n",
    "print(json.loads(response_scoring.text))"
   ]
  },
  {
   "cell_type": "markdown",
   "metadata": {},
   "source": [
    "### Model V2"
   ]
  },
  {
   "cell_type": "code",
   "execution_count": 13,
   "metadata": {},
   "outputs": [
    {
     "name": "stdout",
     "output_type": "stream",
     "text": [
      "Scoring response\n",
      "{'predictions': [{'fields': ['offer_id', 'organization_id', 'discount', 'recommended_revenue', 'recommended_pid', 'recommended_pid_name', 'physical_channel', 'published_revenue', 'new_potential_revenue', 'shipments', 'wps', 'product_cluster', 'industry_code', 'contactrole', 'reason_for_lead', 'lead_source_type', 'primary_competitor', 'predictions'], 'values': [['CL_O_114028920439', 'DHL CL', 54.99967567667746, 69.18017647058825, nan, 'TDI_45%', 'E-Commerce', 129.5004, 66.54, 2, 30.0, 'TDImport', 'FASHFASH', 'Influencer', 'Campaign', 'Liveball', 'FedEx', 54.4371805832009], ['CL_O_114028025699', 'DHL CL', 50.0, 58.436470588235295, nan, 'TDE_42%', 'Freight Forwarders', 103.1832, 61.2, 2, 30.0, 'TDExport', 'CSMRCSDU', 'Influencer', 'Cash Customer', 'CSV', 'UPS', 47.31853549082904]]}]}\n"
     ]
    }
   ],
   "source": [
    "import urllib3, requests, json\n",
    "# NOTE: you must construct mltoken based on provided documentation\t\n",
    "header = {'Content-Type': 'application/json', 'Authorization': 'Bearer ' + mltoken}\n",
    "\n",
    "# NOTE: manually define and pass the array(s) of values to be scored in the next line\n",
    "payload_scoring = {\"input_data\": [{\"fields\": fields, \"values\": values}]}\n",
    "\n",
    "response_scoring = requests.post('https://dhl-cpd-dhl.apps.anup-dal12-demo-cpdga.demo.ibmcloud.com/v4/deployments/2aa82e1a-20a5-43cd-b5df-16a634a93237/predictions', json=payload_scoring, headers=header,verify=False)\n",
    "print(\"Scoring response\")\n",
    "print(json.loads(response_scoring.text))"
   ]
  },
  {
   "cell_type": "markdown",
   "metadata": {},
   "source": []
  }
 ],
 "metadata": {
  "kernelspec": {
   "display_name": "Python 3.6",
   "language": "python",
   "name": "python3"
  },
  "language_info": {
   "codemirror_mode": {
    "name": "ipython",
    "version": 3
   },
   "file_extension": ".py",
   "mimetype": "text/x-python",
   "name": "python",
   "nbconvert_exporter": "python",
   "pygments_lexer": "ipython3",
   "version": "3.6.8"
  }
 },
 "nbformat": 4,
 "nbformat_minor": 4
}
