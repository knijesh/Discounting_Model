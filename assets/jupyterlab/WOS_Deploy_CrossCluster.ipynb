{
 "cells": [
  {
   "cell_type": "markdown",
   "metadata": {},
   "source": [
    "### Requisite Imports"
   ]
  },
  {
   "cell_type": "code",
   "execution_count": 1,
   "metadata": {},
   "outputs": [
    {
     "name": "stdin",
     "output_type": "stream",
     "text": [
      "username =  nijesh\n",
      "password =  ········\n"
     ]
    }
   ],
   "source": [
    "import getpass\n",
    "username=input('username = ')\n",
    "password = getpass.getpass('password = ')"
   ]
  },
  {
   "cell_type": "markdown",
   "metadata": {},
   "source": [
    "### Define the WML API Credentials for a diff cluster"
   ]
  },
  {
   "cell_type": "code",
   "execution_count": 2,
   "metadata": {},
   "outputs": [],
   "source": [
    "from watson_machine_learning_client import WatsonMachineLearningAPIClient\n",
    "import warnings\n",
    "warnings.filterwarnings(\"ignore\")\n",
    "import os\n",
    "\n",
    "\n",
    "# #anup\n",
    "wml_credentials = {\n",
    "    \"url\": \"https://dhl-cpd-dhl.apps.anup-dal12-demo-cpdga.demo.ibmcloud.com\",\n",
    "    \"username\": username,\n",
    "    \"password\": password,\n",
    "   \"instance_id\" : \"openshift\",\n",
    "   \"version\": \"2.5.0\"\n",
    "    \n",
    "}\n",
    "\n",
    "\n",
    "client = WatsonMachineLearningAPIClient(wml_credentials)"
   ]
  },
  {
   "cell_type": "markdown",
   "metadata": {},
   "source": [
    "### Query Spaces"
   ]
  },
  {
   "cell_type": "code",
   "execution_count": 3,
   "metadata": {},
   "outputs": [
    {
     "name": "stdout",
     "output_type": "stream",
     "text": [
      "------------------------------------  -------------------  ------------------------\n",
      "GUID                                  NAME                 CREATED\n",
      "df23f969-8d4d-46a2-beb6-e248d3c44c18  DHL_Production       2020-05-18T04:18:40.949Z\n",
      "c3e7d48b-0acf-4f95-8cf5-e414ebaa46fd  openscale-fast-path  2020-05-11T04:04:25.714Z\n",
      "513d9c2a-ddb1-4055-8f8d-09da56d7ac40  DHL_Staging          2020-05-01T11:23:33.934Z\n",
      "4c267a48-24d0-420b-a1b3-f9e819713be9  CP4DTEST             2020-03-31T08:50:10.470Z\n",
      "------------------------------------  -------------------  ------------------------\n"
     ]
    }
   ],
   "source": [
    "client.spaces.list(limit=5)"
   ]
  },
  {
   "cell_type": "markdown",
   "metadata": {},
   "source": [
    "### Fetch GUID"
   ]
  },
  {
   "cell_type": "code",
   "execution_count": 4,
   "metadata": {},
   "outputs": [],
   "source": [
    "def guid_from_space_name(client, space_name):\n",
    "    instance_details = client.service_instance.get_details()\n",
    "    space = client.spaces.get_details()\n",
    "    return(next(item for item in space['resources'] if item['entity'][\"name\"] == space_name)['metadata']['guid'])"
   ]
  },
  {
   "cell_type": "code",
   "execution_count": 11,
   "metadata": {},
   "outputs": [
    {
     "data": {
      "text/plain": [
       "'df23f969-8d4d-46a2-beb6-e248d3c44c18'"
      ]
     },
     "execution_count": 11,
     "metadata": {},
     "output_type": "execute_result"
    }
   ],
   "source": [
    "space_uid = guid_from_space_name(client,\"DHL_Production\")\n",
    "space_uid"
   ]
  },
  {
   "cell_type": "markdown",
   "metadata": {},
   "source": [
    "### Set default Space"
   ]
  },
  {
   "cell_type": "code",
   "execution_count": 12,
   "metadata": {},
   "outputs": [
    {
     "data": {
      "text/plain": [
       "'SUCCESS'"
      ]
     },
     "execution_count": 12,
     "metadata": {},
     "output_type": "execute_result"
    }
   ],
   "source": [
    "client.set.default_space(space_uid)"
   ]
  },
  {
   "cell_type": "markdown",
   "metadata": {},
   "source": [
    "### Promote Data Assset to Deployment space"
   ]
  },
  {
   "cell_type": "code",
   "execution_count": 7,
   "metadata": {},
   "outputs": [
    {
     "name": "stdout",
     "output_type": "stream",
     "text": [
      "Creating data asset...\n",
      "SUCCESS\n",
      "Creating data asset...\n",
      "SUCCESS\n",
      "Creating data asset...\n",
      "SUCCESS\n"
     ]
    },
    {
     "data": {
      "text/plain": [
       "{'metadata': {'space_id': 'df23f969-8d4d-46a2-beb6-e248d3c44c18',\n",
       "  'guid': '0638d2d3-6e0d-4d8d-a8f5-bb9b7ff4bf44',\n",
       "  'href': '/v2/data_assets/0638d2d3-6e0d-4d8d-a8f5-bb9b7ff4bf44?space_id=df23f969-8d4d-46a2-beb6-e248d3c44c18',\n",
       "  'asset_type': 'data_asset',\n",
       "  'created_at': '2020-05-18T04:22:40Z',\n",
       "  'last_updated_at': '2020-05-18T04:22:40Z'},\n",
       " 'entity': {'data_asset': {'mime_type': 'text/x-python', 'dataset': False}}}"
      ]
     },
     "execution_count": 7,
     "metadata": {},
     "output_type": "execute_result"
    }
   ],
   "source": [
    "client.data_assets.create(\"eval_mdd.tsv\",\"/project_data/data_asset/eval_mdd.tsv\")\n",
    "client.data_assets.create(\"preprocess.py\",\"/home/wsuser/work/project_git_repo/dhl_ibm_cp4d/assets/jupyterlab/utils.py\")\n",
    "client.data_assets.create(\"config.py\",\"/home/wsuser/work/project_git_repo/dhl_ibm_cp4d/assets/jupyterlab/config.py\")"
   ]
  },
  {
   "cell_type": "markdown",
   "metadata": {},
   "source": [
    "### Promote Latest Model to Deployment space"
   ]
  },
  {
   "cell_type": "code",
   "execution_count": 13,
   "metadata": {},
   "outputs": [],
   "source": [
    "#latest_model_file_name\n",
    "#client.data_assets.create(\"MDD_v2.pkl\",\"/project_data/data_asset/MDD_v2.pkl\")"
   ]
  },
  {
   "cell_type": "code",
   "execution_count": 10,
   "metadata": {},
   "outputs": [
    {
     "name": "stdout",
     "output_type": "stream",
     "text": [
      "-------------  ----------  -------  ------------------------------------\n",
      "NAME           ASSET_TYPE  SIZE     ASSET_ID\n",
      "preprocess.py  data_asset  6977     13492590-8a8c-4139-baa1-21c8005aa7fb\n",
      "eval_mdd.tsv   data_asset  300542   fdf35562-2cba-4987-9421-0fa2b0e15a38\n",
      "config.py      data_asset  11043    1222f0b2-d93b-4554-8e4e-caa1301736d1\n",
      "MDD_v2.model   data_asset  102802   85025165-1810-47e5-9a0a-5b171c549d2a\n",
      "MDD_v1.model   data_asset  4322377  05b2523a-3548-45cd-ab48-00052d7d5de9\n",
      "-------------  ----------  -------  ------------------------------------\n"
     ]
    }
   ],
   "source": [
    "client.data_assets.list()"
   ]
  },
  {
   "cell_type": "markdown",
   "metadata": {},
   "source": [
    "### Initialize the deployment function parameters"
   ]
  },
  {
   "cell_type": "code",
   "execution_count": 13,
   "metadata": {},
   "outputs": [],
   "source": [
    "model_details = client.data_assets.get_details(\"db59d720-176b-4919-87fe-f858b138c269\") #v2(Preprod)\n",
    "#model_details = client.data_assets.get_details(\"05b2523a-3548-45cd-ab48-00052d7d5de9\") #v1(Challenger)\n",
    "model_id = client.data_assets.get_uid(model_details)\n",
    "model_href = client.data_assets.get_href(model_details)\n",
    "\n",
    "\n",
    "data_details = client.data_assets.get_details(\"ae9ca351-38cb-402a-b04c-18950173c78c\")\n",
    "data_id = client.data_assets.get_uid(data_details)\n",
    "\n",
    "\n",
    "script_details = client.data_assets.get_details(\"f25d1847-e2b6-4bc6-bd7a-a752e95486c8\")\n",
    "script_id = client.data_assets.get_uid(script_details)\n",
    "\n",
    "config_script_details = client.data_assets.get_details(\"0638d2d3-6e0d-4d8d-a8f5-bb9b7ff4bf44\")\n",
    "config_script_id = client.data_assets.get_uid(config_script_details)\n",
    "\n",
    "project_uid = os.environ['PROJECT_ID']\n",
    "\n",
    "params = {\n",
    "    \"wml_credentials\": wml_credentials,\n",
    "    \"project_uid\": project_uid,\n",
    "    \"space_uid\": space_uid,\n",
    "    \"mdd_model_id\": model_id,\n",
    "    \"data_details\":data_id,\n",
    "    \"preprocess_scripts\":script_id,\n",
    "    \"config_scripts\":config_script_id\n",
    "    \n",
    "    \n",
    "}\n"
   ]
  },
  {
   "cell_type": "markdown",
   "metadata": {},
   "source": [
    "### Deployable MDD Python Closure Function"
   ]
  },
  {
   "cell_type": "code",
   "execution_count": 14,
   "metadata": {},
   "outputs": [],
   "source": [
    "def mdd_deployment_function(params=params):\n",
    "    import subprocess\n",
    "    import sys,time\n",
    "    import pickle\n",
    "    from watson_machine_learning_client import WatsonMachineLearningAPIClient\n",
    "    \n",
    "    params['wml_credentials']['instance_id'] = 'openshift'\n",
    "    \n",
    "    sys.path.insert(0,'/home/wmlfuser/.local/lib/python3.6/site-packages/')\n",
    "    sys.path.insert(0, './')\n",
    "\n",
    "    \n",
    "    # Setup Client\n",
    "    client = WatsonMachineLearningAPIClient(params['wml_credentials'])\n",
    "    client.set.default_space(params['space_uid'])\n",
    "    \n",
    "    #Download Required Models and Files locally\n",
    "    client.data_assets.download(params['preprocess_scripts'],\"preprocess.py\")\n",
    "    client.data_assets.download(params['config_scripts'],\"config.py\")\n",
    "    client.data_assets.download(params['mdd_model_id'],\"mdd.model\")\n",
    "    #pro_data = pd.read_csv('/project_data/data_asset/eval_mdd.tsv', sep='\\t', na_values='?')\n",
    "    \n",
    "    \n",
    "    #Payload Preprocessing \n",
    "    \n",
    "    def payload_process(data):\n",
    "        import preprocess\n",
    "        import config\n",
    "        import pandas as pd\n",
    "        import numpy as np\n",
    "        \n",
    "#         data = pd.DataFrame(values,columns=fields)\n",
    "#         data.replace('OPENSCALE','',inplace=True)\n",
    "#         data.replace(99999,np.nan,inplace = True)\n",
    "            \n",
    "        #Preprocessing of the Evaluation Input\n",
    "\n",
    "        data = data.drop(['weight'], axis=1, errors='ignore')\n",
    "\n",
    "        # ----- Some intial preprocessing calculations -----\n",
    "        data.new_potential_revenue.replace(0, np.nan, inplace = True)\n",
    "        data.published_revenue.replace(0, np.nan, inplace = True)\n",
    "        data.shipments.replace(0, np.nan, inplace = True)\n",
    "        data.wps.replace(0, np.nan, inplace = True)\n",
    "        data.insert(11,'weight',data['wps']*data['shipments'])\n",
    "        data[['weight',\n",
    "                'published_revenue',\n",
    "                'new_potential_revenue']] = data[['weight','published_revenue',\n",
    "                                            'new_potential_revenue']].astype(float)\n",
    "        data.rename(columns={\n",
    "                    'reason_for_lead'                :'REASONFORLEAD'\n",
    "                    ,'lead_source_type'                   :'LEADSOURCE'\n",
    "                    ,'industry_code'                     :'INDUSTRY'\n",
    "                    ,'primary_competitor'                     :'MAINCOMP'\n",
    "                    }, inplace=True)\n",
    "\n",
    "        label_col = \"discount\"\n",
    "        bin_col = ['ecomm']\n",
    "        cat_col = ['industry','product_cluster','loyalty_code','opportunity_type','reason_for_lead','lead_source_type','competitor']\n",
    "\n",
    "        num_col = [\n",
    "        'log_published_revenue', # log(published_revenue)\n",
    "        'log_published_revenue_sq', # (log(published_revenue))^2\n",
    "        'log_potential_revenue', # log(new_potential_revenue)\n",
    "        'log_offer_published_revenue', # log(offer_published_revenue)\n",
    "        'log_shipments', # log(shipments)\n",
    "        'log_wps', # log(wps)\n",
    "        'log_weight', # log(shipments x wps)\n",
    "        'PROD.MIX:DDEXPORT',\n",
    "        'PROD.MIX:DDIMPORT',\n",
    "        'PROD.MIX:TD3RD',\n",
    "        'PROD.MIX:DOMESTIC',\n",
    "        'PROD.MIX:TDEXPORT',\n",
    "        'PROD.MIX:TDIMPORT']\n",
    "\n",
    "        slice = data.loc[(data['organization_id'] == data['organization_id'].unique()[0])]\n",
    "        slice['physical_channel'] = slice.physical_channel.astype('str').replace(\".\",'')\n",
    "        slice = preprocess.preprocess(slice,label_col,bin_col,num_col,cat_col)\n",
    "        \n",
    "        return slice\n",
    " \n",
    "\n",
    "    def score(payload):\n",
    "        \n",
    "        import preprocess\n",
    "        import config\n",
    "        import pandas as pd\n",
    "        import numpy as np\n",
    "        import pickle\n",
    "        \n",
    "        field_values =[]\n",
    "              \n",
    "        try:\n",
    "            #Load the Saved Model\n",
    "            \n",
    "            with open('mdd.model','rb') as f:\n",
    "                final_mdd_model = pickle.load(f)\n",
    "                \n",
    "            #Decode a Dataframe from Payload Json\n",
    "\n",
    "            values = payload['input_data'][0]['values']\n",
    "            fields = payload['input_data'][0]['fields']\n",
    "            \n",
    "            data = pd.DataFrame(values,columns=fields)\n",
    "            data.replace('OPENSCALE','',inplace=True)\n",
    "            data.replace(99999,0,inplace = True)\n",
    "            \n",
    "            categorical_columns = ['industry_code','product_cluster','reason_for_lead','lead_source_type','primary_competitor','contactrole','physical_channel']\n",
    "            feature_columns = ['offer_id','organization_id','recommended_revenue','recommended_pid','recommended_pid_name','physical_channel','published_revenue','new_potential_revenue','shipments','wps', 'product_cluster', 'industry_code','contactrole','reason_for_lead', 'lead_source_type','primary_competitor']\n",
    "            non_numerical = ['recommended_pid_name','offer_id','organization_id'] + categorical_columns\n",
    "            numerical = [each for each in feature_columns if each not in non_numerical]\n",
    "            for each in numerical:\n",
    "                if not each =='shipments':\n",
    "                    data[each] = data[each].astype('float64')\n",
    "                else:\n",
    "                    data[each] = data[each].astype('int')\n",
    "                    \n",
    "            for each in non_numerical:\n",
    "                data[each] = data[each].astype('str')\n",
    "                \n",
    "            #data['recommended_pid'] = data['recommended_pid'].astype('str')\n",
    "                       \n",
    "            values = data.values.tolist()\n",
    "            \n",
    "            #Preprocess the raw data load before scoring\n",
    "            slice = payload_process(data)\n",
    "            \n",
    "            \n",
    "            X = slice\n",
    "            y = final_mdd_model.predict(slice)\n",
    "            \n",
    "            #return {'predictions':[{'results': list(y)}]}\n",
    "            \n",
    "        \n",
    "           \n",
    "            y = list(y)\n",
    "            \n",
    "            i = 0\n",
    "            while i < len(y) :\n",
    "                values[i].append(y[i])\n",
    "                i +=1\n",
    "                    \n",
    "            return {'predictions':[{'fields':fields+['predictions'],'values': values}]}\n",
    "        \n",
    "        except Exception as e:\n",
    "            return {\"predictions\": [{\"error\" : repr(e)}]}\n",
    "        \n",
    "    return score\n",
    "\n",
    "\n"
   ]
  },
  {
   "cell_type": "code",
   "execution_count": 15,
   "metadata": {},
   "outputs": [],
   "source": [
    "# results = mdd_deployment_function()(payload_data)\n",
    "# results"
   ]
  },
  {
   "cell_type": "markdown",
   "metadata": {},
   "source": [
    "### Store the Function in deployment space"
   ]
  },
  {
   "cell_type": "code",
   "execution_count": 16,
   "metadata": {},
   "outputs": [],
   "source": [
    "PRE_PROD_MODEL_NAME=\"DHL MDD Model-PreProd\"\n",
    "PRE_PROD_DEPLOYMENT_NAME=\"DHL MDD Model-PreProd\"\n",
    "\n",
    "PRE_PROD_CHALLENGER_MODEL_NAME=\"DHL MDD Model-Challenger\"\n",
    "PRE_PROD_CHALLENGER_DEPLOYMENT_NAME=\"DHL MDD Model-Challenger\"\n",
    "\n",
    "PRE_PROD_SPACE_NAME=\"DHL_Staging\""
   ]
  },
  {
   "cell_type": "code",
   "execution_count": 17,
   "metadata": {},
   "outputs": [
    {
     "data": {
      "text/plain": [
       "'SUCCESS'"
      ]
     },
     "execution_count": 17,
     "metadata": {},
     "output_type": "execute_result"
    }
   ],
   "source": [
    "client.set.default_space(space_uid)"
   ]
  },
  {
   "cell_type": "markdown",
   "metadata": {},
   "source": [
    "### Function Metadata."
   ]
  },
  {
   "cell_type": "code",
   "execution_count": 18,
   "metadata": {},
   "outputs": [],
   "source": [
    "meta_props = {\n",
    "    client.repository.FunctionMetaNames.NAME: 'DHL MDD Model-Challenger',\n",
    "    client.repository.FunctionMetaNames.RUNTIME_UID: \"ai-function_0.1-py3.6\",\n",
    "    client.repository.FunctionMetaNames.SPACE_UID: space_uid\n",
    "    \n",
    "}\n",
    "\n",
    "# meta_props = {\n",
    "#     client.repository.FunctionMetaNames.NAME: 'DHL MDD Model-PreProd',\n",
    "#     client.repository.FunctionMetaNames.RUNTIME_UID: \"ai-function_0.1-py3.6\",\n",
    "#     client.repository.FunctionMetaNames.SPACE_UID: space_uid\n",
    "# }"
   ]
  },
  {
   "cell_type": "markdown",
   "metadata": {},
   "source": [
    "### Create the Function artifact."
   ]
  },
  {
   "cell_type": "code",
   "execution_count": 19,
   "metadata": {},
   "outputs": [
    {
     "name": "stdout",
     "output_type": "stream",
     "text": [
      "Function UID = 480a693a-1f17-49c2-bddc-eea75d2770b7\n"
     ]
    }
   ],
   "source": [
    "function_artifact = client.repository.store_function(meta_props=meta_props, function=mdd_deployment_function)\n",
    "function_uid = client.repository.get_function_uid(function_artifact)\n",
    "print(\"Function UID = \" + function_uid)"
   ]
  },
  {
   "cell_type": "markdown",
   "metadata": {},
   "source": [
    "### Details about the function."
   ]
  },
  {
   "cell_type": "code",
   "execution_count": 20,
   "metadata": {},
   "outputs": [
    {
     "name": "stdout",
     "output_type": "stream",
     "text": [
      "{'entity': {'name': 'DHL MDD Model-Challenger',\n",
      "            'runtime': {'href': '/v4/runtimes/ai-function_0.1-py3.6'},\n",
      "            'space': {'href': '/v4/spaces/df23f969-8d4d-46a2-beb6-e248d3c44c18'},\n",
      "            'type': 'python'},\n",
      " 'metadata': {'created_at': '2020-05-20T05:04:35.002Z',\n",
      "              'guid': '480a693a-1f17-49c2-bddc-eea75d2770b7',\n",
      "              'href': '/v4/functions/480a693a-1f17-49c2-bddc-eea75d2770b7?space_id=df23f969-8d4d-46a2-beb6-e248d3c44c18',\n",
      "              'id': '480a693a-1f17-49c2-bddc-eea75d2770b7',\n",
      "              'modified_at': '2020-05-20T05:04:37.002Z',\n",
      "              'owner': '1000331001'}}\n"
     ]
    }
   ],
   "source": [
    "function_details = client.repository.get_details(function_uid)\n",
    "from pprint import pprint\n",
    "pprint(function_details)"
   ]
  },
  {
   "cell_type": "markdown",
   "metadata": {},
   "source": [
    "### Deploy the MDD Function"
   ]
  },
  {
   "cell_type": "code",
   "execution_count": 21,
   "metadata": {},
   "outputs": [],
   "source": [
    "# # Deployment metadata.\n",
    "# deploy_meta = {\n",
    "#     client.deployments.ConfigurationMetaNames.NAME: \"DHL MDD Model-PreProd\",\n",
    "#     client.deployments.ConfigurationMetaNames.DESCRIPTION: \"mdd_deployment_function-deploy\",\n",
    "#     client.deployments.ConfigurationMetaNames.ONLINE: {}\n",
    "# }\n",
    "\n",
    "#Deployment metadata.\n",
    "deploy_meta = {\n",
    "    client.deployments.ConfigurationMetaNames.NAME: \"DHL MDD Model-Challenger\",\n",
    "    client.deployments.ConfigurationMetaNames.DESCRIPTION: \"mdd_deployment_function-deploy\",\n",
    "    client.deployments.ConfigurationMetaNames.ONLINE: {}\n",
    "}"
   ]
  },
  {
   "cell_type": "markdown",
   "metadata": {},
   "source": [
    "### Create the deployment."
   ]
  },
  {
   "cell_type": "code",
   "execution_count": 22,
   "metadata": {},
   "outputs": [
    {
     "name": "stdout",
     "output_type": "stream",
     "text": [
      "\n",
      "\n",
      "#######################################################################################\n",
      "\n",
      "Synchronous deployment creation for uid: '480a693a-1f17-49c2-bddc-eea75d2770b7' started\n",
      "\n",
      "#######################################################################################\n",
      "\n",
      "\n",
      "initializing...\n",
      "ready\n",
      "\n",
      "\n",
      "------------------------------------------------------------------------------------------------\n",
      "Successfully finished deployment creation, deployment_uid='41f17acb-078e-4754-b90f-1eac2196e400'\n",
      "------------------------------------------------------------------------------------------------\n",
      "\n",
      "\n",
      "Deployment uid = 41f17acb-078e-4754-b90f-1eac2196e400\n"
     ]
    }
   ],
   "source": [
    "deployment_details = client.deployments.create(function_uid, meta_props=deploy_meta)\n",
    "# Deployment UID.\n",
    "deployment_uid = client.deployments.get_uid(deployment_details)\n",
    "print('Deployment uid = {}'.format(deployment_uid))"
   ]
  },
  {
   "cell_type": "markdown",
   "metadata": {},
   "source": [
    "### Prepare scoring payload."
   ]
  },
  {
   "cell_type": "code",
   "execution_count": 23,
   "metadata": {},
   "outputs": [],
   "source": [
    "from cpd_utils import *\n",
    "payload_data = prepare_scoring_payload(path='/project_data/data_asset/eval_mdd.tsv',no_of_records=1)\n",
    "\n",
    "fields = payload_data['input_data'][0]['fields']\n",
    "values = payload_data['input_data'][0]['values']\n",
    "\n",
    "job_payload = {\n",
    "    client.deployments.ScoringMetaNames.INPUT_DATA: [{\n",
    "        'fields': fields,\n",
    "        'values': values\n",
    "    }]\n",
    "}"
   ]
  },
  {
   "cell_type": "markdown",
   "metadata": {},
   "source": [
    "### MDD Model Scoring"
   ]
  },
  {
   "cell_type": "code",
   "execution_count": 24,
   "metadata": {},
   "outputs": [
    {
     "data": {
      "text/plain": [
       "{'predictions': [{'fields': ['offer_id',\n",
       "    'organization_id',\n",
       "    'recommended_revenue',\n",
       "    'recommended_pid',\n",
       "    'recommended_pid_name',\n",
       "    'physical_channel',\n",
       "    'published_revenue',\n",
       "    'new_potential_revenue',\n",
       "    'shipments',\n",
       "    'wps',\n",
       "    'product_cluster',\n",
       "    'industry_code',\n",
       "    'contactrole',\n",
       "    'reason_for_lead',\n",
       "    'lead_source_type',\n",
       "    'primary_competitor',\n",
       "    'predictions'],\n",
       "   'values': [['CL_O_115157344685',\n",
       "     'DHL CL',\n",
       "     21.442411764705888,\n",
       "     nan,\n",
       "     'TDI_36%',\n",
       "     'nan',\n",
       "     31.4364,\n",
       "     24.0,\n",
       "     2,\n",
       "     5.0,\n",
       "     'TDImport',\n",
       "     'TECHCSEL',\n",
       "     'Influencer',\n",
       "     'Cash Customer',\n",
       "     'CSV',\n",
       "     'Other',\n",
       "     36.91025922516022]]}]}"
      ]
     },
     "execution_count": 24,
     "metadata": {},
     "output_type": "execute_result"
    }
   ],
   "source": [
    "job_details = client.deployments.score(deployment_uid, job_payload)\n",
    "job_details"
   ]
  },
  {
   "cell_type": "code",
   "execution_count": null,
   "metadata": {},
   "outputs": [],
   "source": []
  }
 ],
 "metadata": {
  "kernelspec": {
   "display_name": "Python 3.6",
   "language": "python",
   "name": "python3"
  },
  "language_info": {
   "codemirror_mode": {
    "name": "ipython",
    "version": 3
   },
   "file_extension": ".py",
   "mimetype": "text/x-python",
   "name": "python",
   "nbconvert_exporter": "python",
   "pygments_lexer": "ipython3",
   "version": "3.6.8"
  }
 },
 "nbformat": 4,
 "nbformat_minor": 4
}
