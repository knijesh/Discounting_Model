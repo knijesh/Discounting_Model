{
 "cells": [
  {
   "cell_type": "markdown",
   "metadata": {},
   "source": [
    "### Setting up Export path for cx_Oracle. Restart the kernel after running the below cell.\n"
   ]
  },
  {
   "cell_type": "code",
   "execution_count": 4,
   "metadata": {},
   "outputs": [
    {
     "name": "stdout",
     "output_type": "stream",
     "text": [
      "/home/wsuser/instantclient.zip\n",
      "libclntsh.so\n",
      "/home/wsuser/libaio.rpm\n",
      "libaio.so.1\n",
      "'libaio.so.1' -> 'lib64/libaio.so.1.0.1'\n",
      "mkdir: created directory '/opt/conda/envs/Python-3.6/etc/conda'\n",
      "mkdir: created directory '/opt/conda/envs/Python-3.6/etc/conda/activate.d'\n"
     ]
    }
   ],
   "source": [
    "!ls ~/instantclient.zip || curl --fail -o ~/instantclient.zip https://download.oracle.com/otn_software/linux/instantclient/193000/instantclient-basiclite-linux.x64-19.3.0.0.0dbru.zip\n",
    "!mkdir -p ~/lib ; cd ~/lib ; ls libclntsh.so || unzip -j ~/instantclient.zip\n",
    "!ls ~/libaio.rpm || curl --fail -o ~/libaio.rpm https://cdn-ubi.redhat.com/content/public/ubi/dist/ubi/server/7/7Server/x86_64/os/Packages/l/libaio-0.3.109-13.el7.x86_64.rpm\n",
    "!mkdir -p ~/lib ; cd ~/lib ; ls libaio.so.1 || (rpm2cpio ~/libaio.rpm | cpio -idmv ) ; ln -svf lib64/libaio.so.1.0.1 libaio.so.1\n",
    "!mkdir -pv $CONDA_PREFIX/etc/conda/activate.d\n",
    "!echo \"export LD_LIBRARY_PATH='$(realpath ~/lib)'\" >$CONDA_PREFIX/etc/conda/activate.d/cxoracle.sh"
   ]
  },
  {
   "cell_type": "markdown",
   "metadata": {},
   "source": [
    "### Use IBM Supported cx_Oracle to interface with the Oracle database"
   ]
  },
  {
   "cell_type": "markdown",
   "metadata": {},
   "source": [
    "### Add tables to Oracle"
   ]
  },
  {
   "cell_type": "code",
   "execution_count": null,
   "metadata": {},
   "outputs": [],
   "source": [
    "import pandas as pd, cx_Oracle\n",
    "from project_lib import Project\n",
    "\n",
    "def connect_to_oracle():\n",
    "    \"\"\"\n",
    "    Establish connection\n",
    "    \"\"\"\n",
    "    project = Project.access()\n",
    "    Oracle_credentials = project.get_connection(name=\"Oracle\")\n",
    "    Oracle_dsn = cx_Oracle.makedsn(host = Oracle_credentials['host'], port = Oracle_credentials['port'], service_name = Oracle_credentials['service_name'])\n",
    "    Oracle_connection = cx_Oracle.connect(Oracle_credentials['username'], Oracle_credentials['password'], Oracle_dsn, encoding = 'UTF-8', nencoding = 'UTF-8')\n",
    "    return Oracle_connection\n",
    "\n",
    "\n",
    "def create_table(table_name,cursor,query):\n",
    "    \"\"\"\n",
    "    Create a Table\n",
    "    \"\"\"\n",
    "    try:\n",
    "        query1 = \"DROP TABLE {}\".format(table_name)\n",
    "        cursor.execute(query1)\n",
    "    except Exception as e:\n",
    "        print(e)\n",
    "    cursor.execute(query)\n",
    "    print(\"Table {} Created\".format(table_name))\n",
    "\n",
    "def insert_rows(billings,connection,sql,table_name):\n",
    "    \"\"\"\n",
    "    Swift insertion of multiple rows  \n",
    "    \n",
    "    \"\"\"\n",
    "    try:\n",
    "        # create a cursor\n",
    "        with connection.cursor() as cursor:\n",
    "            cursor.executemany(sql, billings)\n",
    "            # commit work\n",
    "            connection.commit()\n",
    "            print(\"Values Inserted in the Table {}\".format(table_name))\n",
    "    except cx_Oracle.Error as error:\n",
    "        import traceback\n",
    "        print('Error occurred:')\n",
    "        traceback.print_exc()\n",
    "  \n",
    "        \n",
    "def fetch_values(cursor,table_name):\n",
    "    \"\"\"\n",
    "     Fetch Values from Tables\n",
    "    \"\"\"\n",
    "    cursor.execute('SELECT * FROM {}'.format(table_name))\n",
    "    query_data = cursor.fetchall()\n",
    "    col_names = [colname[0] for colname in cursor.description]\n",
    "    data = pd.DataFrame(data=query_data, columns=col_names)\n",
    "    return data\n",
    "\n",
    "def create_and_batch_insert(tables,cursor,creation_dict,insertion_dict,values_dict):\n",
    "    \"\"\"\n",
    "    Create and Batch update Tables: Driver Function\n",
    "    \"\"\"\n",
    "    for each in tables:\n",
    "        create_table(each,cursor,creation_dict[each])\n",
    "        insert_rows(values_dict[each],connection,insertion_dict[each],each)"
   ]
  },
  {
   "cell_type": "markdown",
   "metadata": {},
   "source": [
    "### Prepare the Python Objects to be added as batch inserts in Oracle DB"
   ]
  },
  {
   "cell_type": "code",
   "execution_count": null,
   "metadata": {},
   "outputs": [],
   "source": [
    "import numpy as np\n",
    "import pandas as pd\n",
    "from utils import *\n",
    "offer = pd.read_csv('/project_data/data_asset/offers.tsv', sep='\\t', na_values='?')\n",
    "offer = offer.replace(np.nan, '', regex=True)\n",
    "offer['cpa_id']= offer['cpa_id'].astype(str)\n",
    "offer['total_shipments']= offer['total_shipments'].astype(str)\n",
    "values = offer.values.tolist()\n",
    "#values[2]"
   ]
  },
  {
   "cell_type": "code",
   "execution_count": null,
   "metadata": {},
   "outputs": [],
   "source": [
    "audit = pd.read_csv('/project_data/data_asset/offer_audit.tsv', sep='\\t', na_values='?')\n",
    "audit = audit.replace(np.nan, '', regex=True)\n",
    "audit = audit.astype(str)\n",
    "audit_values = audit.values.tolist()\n",
    "#audit_values[0:3]"
   ]
  },
  {
   "cell_type": "code",
   "execution_count": null,
   "metadata": {},
   "outputs": [],
   "source": [
    "discount = pd.read_csv('/project_data/data_asset/discount_policy.tsv', sep='\\t', na_values='?')\n",
    "discount = discount.replace(np.nan, '', regex=True)\n",
    "discount = discount.astype(str)\n",
    "discount_values = discount.values.tolist()"
   ]
  },
  {
   "cell_type": "code",
   "execution_count": null,
   "metadata": {},
   "outputs": [],
   "source": [
    "shipment = pd.read_csv('/project_data/data_asset/shipment_profile.tsv', sep='\\t', na_values='?')\n",
    "shipment = shipment.replace(np.nan, '', regex=True)\n",
    "shipment = shipment.astype(str)\n",
    "shipment_values = shipment.values.tolist()\n",
    "#shipment_values[0]"
   ]
  },
  {
   "cell_type": "code",
   "execution_count": null,
   "metadata": {},
   "outputs": [],
   "source": [
    "customer = pd.read_csv('/project_data/data_asset/customers.tsv', sep='\\t', na_values='?')\n",
    "customer = customer.replace(np.nan, '', regex=True)\n",
    "customer = customer.astype(str)\n",
    "customer_values = customer.values.tolist()"
   ]
  },
  {
   "cell_type": "code",
   "execution_count": null,
   "metadata": {},
   "outputs": [],
   "source": [
    "oppo = pd.read_csv('/project_data/data_asset/opportunities.tsv', sep='\\t', na_values='?')\n",
    "oppo = oppo.replace(np.nan, '', regex=True)\n",
    "oppo = oppo.astype(str)\n",
    "oppo_values = oppo.values.tolist()"
   ]
  },
  {
   "cell_type": "markdown",
   "metadata": {},
   "source": [
    "### Construct Queries"
   ]
  },
  {
   "cell_type": "code",
   "execution_count": null,
   "metadata": {},
   "outputs": [],
   "source": [
    "# Connect to Oracle\n",
    "\n",
    "connection = connect_to_oracle()\n",
    "cursor = connection.cursor()\n",
    "\n",
    "offer_query = \"CREATE TABLE HR.OFFER (CUSTOMER_ID varchar2(40), opportunity_id varchar2(40), offer_id varchar2(40), creation_date varchar2(40), updated_date varchar2(40), organization_id varchar2(40), offer_row_id varchar2(40), offer_status varchar2(40), offer_sub_status varchar2(40), offer_expiry_date varchar2(40), reason_for_offering varchar2(40), gsfa_customer_id varchar2(40), aag_id varchar2(40), cpa_id varchar2(40), sales_channel varchar2(40), composite_id varchar2(40), total_shipments varchar2(40), bpm_integration_id varchar2(40), effective_start_date varchar2(40), agreement_renewal_date varchar2(40), agreement_id varchar2(40), agreement_status varchar2(40), rejection_reason varchar2(40), SALES_REP_POSTN_ID varchar2(40))\"\n",
    "customer_query =\"CREATE TABLE HR.CUSTOMERS (gsfa_customer_id varchar2(40),committed_revenue varchar2(40),created_date varchar2(40), customer_sales_stage varchar2(40), industry_code varchar2(40), loyalty_code varchar2(40), organization_id varchar2(40), physical_channel varchar2(40), reason_for_qualified_out varchar2(40), sales_channel varchar2(24), competitor varchar2(40), qualification_potential varchar2(40), ytd_revenue varchar2(40), overall_opportunity_potential varchar2(40), total_committed_revenue varchar2(40), ftb_month varchar2(40), reason_for_lead varchar2(40), lead_source_type varchar2(40))\"\n",
    "discount_policy_query = \"CREATE TABLE HR.DISCOUNT_POLICY (billing_country varchar2(40), product_cluster varchar2(40), pid_code varchar2(40), pid_name varchar2(40), published_min_rev varchar2(40), published_max_rev varchar2(40), discount varchar2(40))\"\n",
    "oppo_query = \"CREATE TABLE HR.OPPORTUNITIES (opportunity_id varchar2(40) ,created_date varchar2(40) ,actual_close_date varchar2(40) ,opportunity_ocr varchar2(40) ,expected_close_date varchar2(40) ,gsfa_customer_id varchar2(40) ,pipeline_stage varchar2(40) ,pipeline_last_updated_date varchar2(40) ,opportunity_type varchar2(40) ,opportunity_tpr varchar2(40) ,reason_for_lead varchar2(40) ,reason_qualified_out varchar2(40) ,primary_competitor varchar2(40) ,organization_id varchar2(40)  ,existing_committed_revenue varchar2(40) ,existing_potential_revenue varchar2(40) , new_committed_revenue varchar2(40) ,new_potential_revenue varchar2(40) ,no_of_shpmnts_order_lns varchar2(40) ,secondary_competitor varchar2(40) ,committed_revenue varchar2(40) ,lead_source varchar2(40) ,lead_source_type varchar2(40))\"\n",
    "shipment_query = \"CREATE TABLE HR.SHIPMENT_PROFILE ( offer_id varchar2(40), created_date varchar2(40), last_updated_date varchar2(40), agreement_id varchar2(40), organization_id varchar2(40), offer_type varchar2(40), agreement_row_id varchar2(40), gsfa_customer_id varchar2(40), product_cluster varchar2(40), shipments varchar2(40), wps varchar2(40), uom varchar2(40), published_revenue varchar2(40), recommended_pid_name varchar2(40), recommended_revenue varchar2(40), pid_category varchar2(40), discount_selection varchar2(40), selected_pid_name varchar2(40), expected_revenue varchar2(40), percentage_initial_discount varchar2(40), absolute_initial_discount varchar2(40), authority_level varchar2(40), authority_name varchar2(24), avg_discount varchar2(40))\"\n",
    "audit_query =\"CREATE TABLE HR.OFFER_AUDIT (organization_id varchar2(40), offer_id varchar2(40), created_date varchar2(40), updated_date varchar2(40), status varchar2(40), old_value varchar2(40), new_value varchar2(40), operation varchar2(40), contactrole varchar2(40))\"\n",
    "\n",
    "\n",
    "\n",
    "# Prepare Queries \n",
    "\n",
    "offer_sql = ('insert into HR.OFFER(CUSTOMER_ID,opportunity_id,offer_id,creation_date,updated_date,organization_id,offer_row_id,offer_status,offer_sub_status,offer_expiry_date,reason_for_offering,gsfa_customer_id,aag_id,cpa_id,sales_channel,composite_id,total_shipments,bpm_integration_id,effective_start_date,agreement_renewal_date,agreement_id,agreement_status,rejection_reason,SALES_REP_POSTN_ID) '\n",
    "        'values(:CUSTOMER_ID,:opportunity_id,:offer_id,:creation_date,:updated_date,:organization_id,:offer_row_id,:offer_status,:offer_sub_status,:offer_expiry_date,:reason_for_offering,:gsfa_customer_id,:aag_id,:cpa_id,:sales_channel,:composite_id,:total_shipments,:bpm_integration_id,:effective_start_date,:agreement_renewal_date,:agreement_id,:agreement_status,:rejection_reason,:SALES_REP_POSTN_ID)')\n",
    "\n",
    "audit_sql = ('insert into HR.OFFER_AUDIT (organization_id, offer_id, created_date, updated_date, status, old_value, new_value, operation, contactrole)'\n",
    "             'values(:organization_id,:offer_id,:created_date,:updated_date,:status,:old_value,:new_value,:operation,:contactrole)')\n",
    "\n",
    "discount_sql = ('insert into HR.DISCOUNT_POLICY(billing_country, product_cluster, pid_code, pid_name, published_min_rev, published_max_rev, discount) '\n",
    "        'values(:billing_country,:product_cluster,:pid_code,:pid_name,:published_min_rev,:published_max_rev,:discount)')\n",
    "\n",
    "ship_sql = ('insert into HR.SHIPMENT_PROFILE(offer_id, created_date, last_updated_date, agreement_id, organization_id, offer_type, agreement_row_id, gsfa_customer_id , product_cluster, shipments, wps, uom, published_revenue, recommended_pid_name, recommended_revenue, pid_category, discount_selection, selected_pid_name, expected_revenue, percentage_initial_discount, absolute_initial_discount, authority_level, authority_name , avg_discount) '\n",
    "        'values(:offer_id,:created_date,:last_updated_date,:agreement_id,:organization_id,:offer_type,:agreement_row_id,:gsfa_customer_id ,:product_cluster,:shipments,:wps,:uom,:published_revenue,:recommended_pid_name,:recommended_revenue,:pid_category,:discount_selection,:selected_pid_name,:expected_revenue,:percentage_initial_discount,:absolute_initial_discount,:authority_level,:authority_name ,:avg_discount)')\n",
    "\n",
    "\n",
    "oppo_sql = ('insert into HR.OPPORTUNITIES(opportunity_id ,created_date ,actual_close_date ,opportunity_ocr ,expected_close_date ,gsfa_customer_id ,pipeline_stage ,pipeline_last_updated_date ,opportunity_type ,opportunity_tpr ,reason_for_lead ,reason_qualified_out ,primary_competitor ,organization_id  ,existing_committed_revenue ,existing_potential_revenue , new_committed_revenue ,new_potential_revenue ,no_of_shpmnts_order_lns ,secondary_competitor ,committed_revenue ,lead_source ,lead_source_type) '\n",
    "        'values(:opportunity_id ,:created_date ,:actual_close_date ,:opportunity_ocr ,:expected_close_date ,:gsfa_customer_id ,:pipeline_stage ,:pipeline_last_updated_date ,:opportunity_type ,:opportunity_tpr ,:reason_for_lead ,:reason_qualified_out ,:primary_competitor ,:organization_id  ,:existing_committed_revenue ,:existing_potential_revenue ,:new_committed_revenue ,:new_potential_revenue ,:no_of_shpmnts_order_lns ,:secondary_competitor ,:committed_revenue ,:lead_source ,:lead_source_type)')\n",
    "\n",
    "\n",
    "\n",
    "customer_sql = ('insert into HR.CUSTOMERS(gsfa_customer_id,committed_revenue,created_date, customer_sales_stage, industry_code, loyalty_code, organization_id, physical_channel, reason_for_qualified_out, sales_channel , competitor, qualification_potential, ytd_revenue, overall_opportunity_potential, total_committed_revenue, ftb_month, reason_for_lead, lead_source_type) '\n",
    "        'values(:gsfa_customer_id,:committed_revenue,:created_date,:customer_sales_stage,:industry_code,:loyalty_code,:organization_id,:physical_channel,:reason_for_qualified_out,:sales_channel ,:competitor,:qualification_potential,:ytd_revenue,:overall_opportunity_potential,:total_committed_revenue,:ftb_month,:reason_for_lead,:lead_source_type)')\n",
    "\n",
    "\n",
    "creation_queries = [offer_query,customer_query,discount_policy_query,oppo_query,shipment_query,audit_query]\n",
    "\n",
    "insertion_queries = [offer_sql,customer_sql,discount_sql,oppo_sql,ship_sql,audit_sql]\n",
    "\n",
    "tables = [\"HR.OFFER\",\"HR.CUSTOMERS\",\"HR.DISCOUNT_POLICY\",\"HR.OPPORTUNITIES\",\"HR.SHIPMENT_PROFILE\",\"HR.OFFER_AUDIT\"]\n",
    "\n",
    "values_list = [values,customer_values,discount_values,oppo_values,shipment_values,audit_values]\n",
    "\n",
    "creation_dict = dict(zip(tables,creation_queries))\n",
    "insertion_dict= dict(zip(tables,insertion_queries))\n",
    "values_dict = dict(zip(tables,values_list))"
   ]
  },
  {
   "cell_type": "markdown",
   "metadata": {},
   "source": [
    "### Run the Following loop to create and swiftly batch-insert records to the Tables in Oracle DB"
   ]
  },
  {
   "cell_type": "code",
   "execution_count": null,
   "metadata": {},
   "outputs": [],
   "source": [
    "create_and_batch_insert(tables,cursor,creation_dict,insertion_dict,values_dict)"
   ]
  },
  {
   "cell_type": "code",
   "execution_count": 1,
   "metadata": {},
   "outputs": [
    {
     "data": {
      "text/html": [
       "<div>\n",
       "<style scoped>\n",
       "    .dataframe tbody tr th:only-of-type {\n",
       "        vertical-align: middle;\n",
       "    }\n",
       "\n",
       "    .dataframe tbody tr th {\n",
       "        vertical-align: top;\n",
       "    }\n",
       "\n",
       "    .dataframe thead th {\n",
       "        text-align: right;\n",
       "    }\n",
       "</style>\n",
       "<table border=\"1\" class=\"dataframe\">\n",
       "  <thead>\n",
       "    <tr style=\"text-align: right;\">\n",
       "      <th></th>\n",
       "      <th>ORGANIZATION_ID</th>\n",
       "      <th>OFFER_ID</th>\n",
       "      <th>CREATED_DATE</th>\n",
       "      <th>UPDATED_DATE</th>\n",
       "      <th>STATUS</th>\n",
       "      <th>OLD_VALUE</th>\n",
       "      <th>NEW_VALUE</th>\n",
       "      <th>OPERATION</th>\n",
       "      <th>CONTACTROLE</th>\n",
       "    </tr>\n",
       "  </thead>\n",
       "  <tbody>\n",
       "    <tr>\n",
       "      <th>0</th>\n",
       "      <td>DHL CL</td>\n",
       "      <td>CL_O_114752510980</td>\n",
       "      <td>15 Jul 2019 08:06:32.000000</td>\n",
       "      <td>15 Jul 2019 08:06:32.000000</td>\n",
       "      <td>Status</td>\n",
       "      <td>None</td>\n",
       "      <td>Preparation</td>\n",
       "      <td>New Record</td>\n",
       "      <td>Influencer</td>\n",
       "    </tr>\n",
       "    <tr>\n",
       "      <th>1</th>\n",
       "      <td>DHL CL</td>\n",
       "      <td>CL_O_113694478520</td>\n",
       "      <td>13 Mar 2019 08:00:14.000000</td>\n",
       "      <td>13 Mar 2019 08:00:14.000000</td>\n",
       "      <td>Status</td>\n",
       "      <td>Offer Approved</td>\n",
       "      <td>Offer with Customer</td>\n",
       "      <td>Modify</td>\n",
       "      <td>Influencer</td>\n",
       "    </tr>\n",
       "    <tr>\n",
       "      <th>2</th>\n",
       "      <td>DHL CL</td>\n",
       "      <td>CL_O_115061042339</td>\n",
       "      <td>23 Aug 2019 04:26:56.000000</td>\n",
       "      <td>23 Aug 2019 04:26:56.000000</td>\n",
       "      <td>Status</td>\n",
       "      <td>None</td>\n",
       "      <td>Preparation</td>\n",
       "      <td>New Record</td>\n",
       "      <td>Influencer</td>\n",
       "    </tr>\n",
       "    <tr>\n",
       "      <th>3</th>\n",
       "      <td>DHL CL</td>\n",
       "      <td>CL_O_115972081300</td>\n",
       "      <td>9 Dec 2019 03:42:17.000000</td>\n",
       "      <td>9 Dec 2019 03:42:17.000000</td>\n",
       "      <td>Status</td>\n",
       "      <td>Offer with Customer</td>\n",
       "      <td>Invalidated</td>\n",
       "      <td>Modify</td>\n",
       "      <td>None</td>\n",
       "    </tr>\n",
       "    <tr>\n",
       "      <th>4</th>\n",
       "      <td>DHL CL</td>\n",
       "      <td>CL_O_117051190367</td>\n",
       "      <td>1 Apr 2020 08:57:09.000000</td>\n",
       "      <td>1 Apr 2020 08:57:09.000000</td>\n",
       "      <td>Status</td>\n",
       "      <td>Preparation</td>\n",
       "      <td>Approval Requested</td>\n",
       "      <td>Modify</td>\n",
       "      <td>Influencer</td>\n",
       "    </tr>\n",
       "  </tbody>\n",
       "</table>\n",
       "</div>"
      ],
      "text/plain": [
       "  ORGANIZATION_ID           OFFER_ID                 CREATED_DATE  \\\n",
       "0          DHL CL  CL_O_114752510980  15 Jul 2019 08:06:32.000000   \n",
       "1          DHL CL  CL_O_113694478520  13 Mar 2019 08:00:14.000000   \n",
       "2          DHL CL  CL_O_115061042339  23 Aug 2019 04:26:56.000000   \n",
       "3          DHL CL  CL_O_115972081300   9 Dec 2019 03:42:17.000000   \n",
       "4          DHL CL  CL_O_117051190367   1 Apr 2020 08:57:09.000000   \n",
       "\n",
       "                  UPDATED_DATE  STATUS            OLD_VALUE  \\\n",
       "0  15 Jul 2019 08:06:32.000000  Status                 None   \n",
       "1  13 Mar 2019 08:00:14.000000  Status       Offer Approved   \n",
       "2  23 Aug 2019 04:26:56.000000  Status                 None   \n",
       "3   9 Dec 2019 03:42:17.000000  Status  Offer with Customer   \n",
       "4   1 Apr 2020 08:57:09.000000  Status          Preparation   \n",
       "\n",
       "             NEW_VALUE   OPERATION CONTACTROLE  \n",
       "0          Preparation  New Record  Influencer  \n",
       "1  Offer with Customer      Modify  Influencer  \n",
       "2          Preparation  New Record  Influencer  \n",
       "3          Invalidated      Modify        None  \n",
       "4   Approval Requested      Modify  Influencer  "
      ]
     },
     "execution_count": 1,
     "metadata": {},
     "output_type": "execute_result"
    }
   ],
   "source": [
    "\n",
    "# @hidden_cell\n",
    "# This connection object is used to access your data and contains your credentials.\n",
    "# You might want to remove those credentials before you share your notebook.\n",
    "\n",
    "from project_lib import Project\n",
    "project = Project.access()\n",
    "Oracle_credentials = project.get_connection(name=\"Oracle\")\n",
    "\n",
    "import pandas as pd, cx_Oracle\n",
    "\n",
    "Oracle_dsn = cx_Oracle.makedsn(host = Oracle_credentials['host'], port = Oracle_credentials['port'], service_name = Oracle_credentials['service_name'])\n",
    "Oracle_connection = cx_Oracle.connect(Oracle_credentials['username'], Oracle_credentials['password'], Oracle_dsn, encoding = 'UTF-8', nencoding = 'UTF-8')\n",
    "\n",
    "query = 'SELECT * FROM HR.OFFER_AUDIT'\n",
    "cursor = Oracle_connection.cursor()\n",
    "\n",
    "cursor.execute(query)\n",
    "query_data = cursor.fetchall()\n",
    "\n",
    "col_names = [colname[0] for colname in cursor.description]\n",
    "data_df_1 = pd.DataFrame(data=query_data, columns=col_names)\n",
    "data_df_1.head()\n",
    "\n",
    "# You can close the database connection with the following code.\n",
    "# Oracle_connection.close()\n",
    "# To learn more about the cx_Oracle package, please read the documentation: https://pypi.org/project/cx-Oracle/\n"
   ]
  },
  {
   "cell_type": "code",
   "execution_count": 2,
   "metadata": {},
   "outputs": [],
   "source": [
    "from project_lib import Project\n",
    "project = Project.access()"
   ]
  },
  {
   "cell_type": "code",
   "execution_count": 3,
   "metadata": {},
   "outputs": [],
   "source": [
    "import project_lib"
   ]
  },
  {
   "cell_type": "code",
   "execution_count": 5,
   "metadata": {},
   "outputs": [
    {
     "data": {
      "text/plain": [
       "\u001b[0;31mType:\u001b[0m        module\n",
       "\u001b[0;31mString form:\u001b[0m <module 'project_lib.utils' from '/opt/conda/envs/Python-3.6/lib/python3.6/site-packages/project_lib/utils/__init__.py'>\n",
       "\u001b[0;31mFile:\u001b[0m        /opt/conda/envs/Python-3.6/lib/python3.6/site-packages/project_lib/utils/__init__.py\n",
       "\u001b[0;31mSource:\u001b[0m     \n",
       "\u001b[0;31m# -----------------------------------------------------------------------------\u001b[0m\u001b[0;34m\u001b[0m\n",
       "\u001b[0;34m\u001b[0m\u001b[0;31m# Licensed Materials - Property of IBM\u001b[0m\u001b[0;34m\u001b[0m\n",
       "\u001b[0;34m\u001b[0m\u001b[0;31m# 5725-Y50\u001b[0m\u001b[0;34m\u001b[0m\n",
       "\u001b[0;34m\u001b[0m\u001b[0;31m# (C) Copyright IBM Corp. 2017    All Rights Reserved.\u001b[0m\u001b[0;34m\u001b[0m\n",
       "\u001b[0;34m\u001b[0m\u001b[0;31m# US Government Users Restricted Rights - Use, duplication or disclosure\u001b[0m\u001b[0;34m\u001b[0m\n",
       "\u001b[0;34m\u001b[0m\u001b[0;31m# restricted by GSA ADP Schedule Contract with IBM Corp.\u001b[0m\u001b[0;34m\u001b[0m\n",
       "\u001b[0;34m\u001b[0m\u001b[0;31m# -----------------------------------------------------------------------------\u001b[0m\u001b[0;34m\u001b[0m\n",
       "\u001b[0;34m\u001b[0m\u001b[0;32mfrom\u001b[0m \u001b[0;34m.\u001b[0m\u001b[0mlogger\u001b[0m \u001b[0;32mimport\u001b[0m \u001b[0mLogger\u001b[0m\u001b[0;34m\u001b[0m\n",
       "\u001b[0;34m\u001b[0m\u001b[0;32mfrom\u001b[0m \u001b[0;34m.\u001b[0m\u001b[0mproject_context\u001b[0m \u001b[0;32mimport\u001b[0m \u001b[0mProjectContext\u001b[0m\u001b[0;34m\u001b[0m\n",
       "\u001b[0;34m\u001b[0m\u001b[0;32mfrom\u001b[0m \u001b[0;34m.\u001b[0m\u001b[0menvironment\u001b[0m \u001b[0;32mimport\u001b[0m \u001b[0menvironment\u001b[0m\u001b[0;34m\u001b[0m\n",
       "\u001b[0;34m\u001b[0m\u001b[0;32mfrom\u001b[0m \u001b[0;34m.\u001b[0m\u001b[0mconstants\u001b[0m \u001b[0;32mimport\u001b[0m \u001b[0mconstants_dict\u001b[0m\u001b[0;34m\u001b[0m\n",
       "\u001b[0;34m\u001b[0m\u001b[0;32mfrom\u001b[0m \u001b[0;34m.\u001b[0m\u001b[0mhandle\u001b[0m \u001b[0;32mimport\u001b[0m \u001b[0mProjectHandle\u001b[0m\u001b[0;34m\u001b[0m\u001b[0;34m\u001b[0m\u001b[0m\n"
      ]
     },
     "metadata": {},
     "output_type": "display_data"
    }
   ],
   "source": [
    "project_lib.utils??"
   ]
  },
  {
   "cell_type": "code",
   "execution_count": 13,
   "metadata": {},
   "outputs": [
    {
     "name": "stdout",
     "output_type": "stream",
     "text": [
      "/project_data/data_asset\n"
     ]
    }
   ],
   "source": [
    "import os\n",
    "path = \"/project_data/data_asset/\"\n",
    "os.chdir(path)\n",
    "!pwd"
   ]
  },
  {
   "cell_type": "code",
   "execution_count": 14,
   "metadata": {},
   "outputs": [],
   "source": [
    "os.makedirs(\"DHL_Data\")"
   ]
  },
  {
   "cell_type": "code",
   "execution_count": 16,
   "metadata": {},
   "outputs": [
    {
     "data": {
      "text/plain": [
       "{'file_name': 'eval_mdd_test.csv',\n",
       " 'message': 'File saved to project storage.',\n",
       " 'asset_id': '023d5b8a-2b94-4535-9afa-b16fdc4f9817'}"
      ]
     },
     "execution_count": 16,
     "metadata": {},
     "output_type": "execute_result"
    }
   ],
   "source": [
    "project.save_data('eval_mdd_test.csv',\"/project_data/data_asset/DHL_Data/\")"
   ]
  },
  {
   "cell_type": "code",
   "execution_count": 3,
   "metadata": {},
   "outputs": [],
   "source": []
  },
  {
   "cell_type": "code",
   "execution_count": null,
   "metadata": {},
   "outputs": [],
   "source": []
  }
 ],
 "metadata": {
  "kernelspec": {
   "display_name": "Python 3.6",
   "language": "python",
   "name": "python3"
  },
  "language_info": {
   "codemirror_mode": {
    "name": "ipython",
    "version": 3
   },
   "file_extension": ".py",
   "mimetype": "text/x-python",
   "name": "python",
   "nbconvert_exporter": "python",
   "pygments_lexer": "ipython3",
   "version": "3.6.8"
  }
 },
 "nbformat": 4,
 "nbformat_minor": 4
}
